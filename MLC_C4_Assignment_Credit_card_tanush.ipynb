{
 "cells": [
  {
   "cell_type": "code",
   "execution_count": 1,
   "id": "ae13e167",
   "metadata": {},
   "outputs": [
    {
     "name": "stdout",
     "output_type": "stream",
     "text": [
      "<SparkContext master=local appName=test>\n",
      "<pyspark.sql.context.SQLContext object at 0x7fcd6fb3bd00>\n"
     ]
    }
   ],
   "source": [
    "from pyspark import SparkConf, SparkContext, SQLContext\n",
    "\n",
    "conf = SparkConf().setAppName(\"test\").setMaster(\"local\")\n",
    "sc = SparkContext(conf=conf)\n",
    "sqlContext = SQLContext(sc)\n",
    "print(sc)\n",
    "print(sqlContext)"
   ]
  },
  {
   "cell_type": "markdown",
   "id": "548a4c0b",
   "metadata": {},
   "source": [
    "# We increase the broadcast Timeout during model training"
   ]
  },
  {
   "cell_type": "code",
   "execution_count": 2,
   "id": "369fc993",
   "metadata": {},
   "outputs": [],
   "source": [
    "from pyspark.sql import SparkSession\n",
    "spark = SparkSession.builder.appName(\"test\").config(\"spark.sql.broadcastTimeout\", \"3600000000\").getOrCreate()"
   ]
  },
  {
   "cell_type": "code",
   "execution_count": null,
   "id": "9f2d5d03",
   "metadata": {},
   "outputs": [],
   "source": [
    "# We read from the s3 buckets and store it in the below datframes"
   ]
  },
  {
   "cell_type": "code",
   "execution_count": 4,
   "id": "86dd53a1",
   "metadata": {},
   "outputs": [],
   "source": [
    "\n",
    "credit_record = sqlContext.read.csv(\"s3://tdronitaaws/credit_record.csv\", header= True, inferSchema = True)\n"
   ]
  },
  {
   "cell_type": "code",
   "execution_count": 5,
   "id": "54a80332",
   "metadata": {},
   "outputs": [],
   "source": [
    "credit_application = sqlContext.read.csv(\"s3://tdronitaaws/application_record.csv\" ,header= True, inferSchema = True)"
   ]
  },
  {
   "cell_type": "code",
   "execution_count": 6,
   "id": "b7fbcbab",
   "metadata": {},
   "outputs": [],
   "source": [
    "# We check the below shapes\n",
    "\n",
    "def spark_shape(self):\n",
    "    return(self.count(),len(self.columns))"
   ]
  },
  {
   "cell_type": "code",
   "execution_count": 7,
   "id": "af8c73df",
   "metadata": {},
   "outputs": [],
   "source": [
    "import pyspark\n",
    "pyspark.sql.dataframe.DataFrame.shape=spark_shape"
   ]
  },
  {
   "cell_type": "code",
   "execution_count": 8,
   "id": "8e0b39ea",
   "metadata": {},
   "outputs": [
    {
     "name": "stdout",
     "output_type": "stream",
     "text": [
      "(1048575, 3)\n",
      "(438557, 18)\n",
      "[('ID', 'int'), ('MONTHS_BALANCE', 'int'), ('STATUS', 'string')]\n",
      "[('ID', 'int'), ('CODE_GENDER', 'string'), ('FLAG_OWN_CAR', 'string'), ('FLAG_OWN_REALTY', 'string'), ('CNT_CHILDREN', 'int'), ('AMT_INCOME_TOTAL', 'double'), ('NAME_INCOME_TYPE', 'string'), ('NAME_EDUCATION_TYPE', 'string'), ('NAME_FAMILY_STATUS', 'string'), ('NAME_HOUSING_TYPE', 'string'), ('DAYS_BIRTH', 'int'), ('DAYS_EMPLOYED', 'int'), ('FLAG_MOBIL', 'int'), ('FLAG_WORK_PHONE', 'int'), ('FLAG_PHONE', 'int'), ('FLAG_EMAIL', 'int'), ('OCCUPATION_TYPE', 'string'), ('CNT_FAM_MEMBERS', 'double')]\n"
     ]
    },
    {
     "data": {
      "text/plain": [
       "Row(ID=5008804, CODE_GENDER='M', FLAG_OWN_CAR='Y', FLAG_OWN_REALTY='Y', CNT_CHILDREN=0, AMT_INCOME_TOTAL=427500.0, NAME_INCOME_TYPE='Working', NAME_EDUCATION_TYPE='Higher education', NAME_FAMILY_STATUS='Civil marriage', NAME_HOUSING_TYPE='Rented apartment', DAYS_BIRTH=-12005, DAYS_EMPLOYED=-4542, FLAG_MOBIL=1, FLAG_WORK_PHONE=1, FLAG_PHONE=0, FLAG_EMAIL=0, OCCUPATION_TYPE=None, CNT_FAM_MEMBERS=2.0)"
      ]
     },
     "execution_count": 8,
     "metadata": {},
     "output_type": "execute_result"
    }
   ],
   "source": [
    "# we print the shapes and dtypes also look into the head\n",
    "print(credit_record.shape())\n",
    "print(credit_application.shape())\n",
    "print(credit_record.dtypes)\n",
    "print(credit_application.dtypes)\n",
    "credit_application.head()"
   ]
  },
  {
   "cell_type": "code",
   "execution_count": null,
   "id": "7ba0ea24",
   "metadata": {},
   "outputs": [],
   "source": [
    "#Now we do the EDA AS PER ASSIGNMENT\n",
    "\n"
   ]
  },
  {
   "cell_type": "code",
   "execution_count": 9,
   "id": "e2befb76",
   "metadata": {},
   "outputs": [
    {
     "name": "stdout",
     "output_type": "stream",
     "text": [
      "+---------------------------+\n",
      "|count(DISTINCT CODE_GENDER)|\n",
      "+---------------------------+\n",
      "|                          2|\n",
      "+---------------------------+\n",
      "\n"
     ]
    }
   ],
   "source": [
    "#What is the proportion of females in the applicant customer base?\n",
    "from pyspark.sql.functions import countDistinct\n",
    "df2=credit_application.select(countDistinct(\"CODE_GENDER\"))\n",
    "df2.show()"
   ]
  },
  {
   "cell_type": "code",
   "execution_count": 10,
   "id": "9c3d2969",
   "metadata": {},
   "outputs": [
    {
     "name": "stdout",
     "output_type": "stream",
     "text": [
      "+-----------+------+-----------------+\n",
      "|CODE_GENDER| count|       percentage|\n",
      "+-----------+------+-----------------+\n",
      "|          F|294440|67.13836513839706|\n",
      "|          M|144117|32.86163486160294|\n",
      "+-----------+------+-----------------+\n",
      "\n"
     ]
    }
   ],
   "source": [
    "#WE UNDERSTAND THAT 67 PERCENT IS FEMALE AND 32 PERCENT IS MALE\n",
    "\n",
    "import pyspark.sql.functions as F\n",
    "\n",
    "tot = credit_application.count()\n",
    "credit_application.groupby('CODE_GENDER').agg(\n",
    "    (F.count('CODE_GENDER')).alias('count'),\n",
    "    (F.count('CODE_GENDER') / credit_application.count()*100).alias('percentage')\n",
    ").show()"
   ]
  },
  {
   "cell_type": "code",
   "execution_count": 11,
   "id": "851be781",
   "metadata": {},
   "outputs": [
    {
     "name": "stdout",
     "output_type": "stream",
     "text": [
      "+--------------------+------+-------------------+\n",
      "| NAME_EDUCATION_TYPE| count|         percentage|\n",
      "+--------------------+------+-------------------+\n",
      "|     Academic degree|   312|0.07114240566220582|\n",
      "|   Incomplete higher| 14851|  3.386332905414804|\n",
      "|Secondary / secon...|301821|  68.82138467747636|\n",
      "|     Lower secondary|  4051| 0.9237111709538327|\n",
      "|    Higher education|117522|   26.7974288404928|\n",
      "+--------------------+------+-------------------+\n",
      "\n"
     ]
    }
   ],
   "source": [
    "#BASIC EDA\n",
    "import pyspark.sql.functions as F\n",
    "\n",
    "tot = credit_application.count()\n",
    "credit_application.groupby('NAME_EDUCATION_TYPE').agg(\n",
    "    (F.count('NAME_EDUCATION_TYPE')).alias('count'),\n",
    "    (F.count('NAME_EDUCATION_TYPE') / credit_application.count()*100).alias('percentage')\n",
    ").show()"
   ]
  },
  {
   "cell_type": "code",
   "execution_count": 12,
   "id": "68586236",
   "metadata": {},
   "outputs": [
    {
     "name": "stdout",
     "output_type": "stream",
     "text": [
      "+-----------+---------------+---------+\n",
      "|CODE_GENDER|FLAG_OWN_REALTY|Frequency|\n",
      "+-----------+---------------+---------+\n",
      "|          F|              N|    86302|\n",
      "|          F|              Y|   208138|\n",
      "|          M|              N|    48181|\n",
      "|          M|              Y|    95936|\n",
      "+-----------+---------------+---------+\n",
      "\n"
     ]
    }
   ],
   "source": [
    "#Is homeownership higher among male applicants or female applicants?\n",
    "#WE GET TO SEE THAT FEMALE OWN MORE HOME FLAG_OWN_REALTY=Y TELLS IF SOMEONE IS OWNER OR NOT\n",
    "import pyspark.sql.functions as F\n",
    "\n",
    "df3 = credit_application.groupBy('CODE_GENDER', 'FLAG_OWN_REALTY').agg(F.count('*').alias('Frequency')).orderBy('CODE_GENDER', 'FLAG_OWN_REALTY')\n",
    "df3.show()"
   ]
  },
  {
   "cell_type": "code",
   "execution_count": null,
   "id": "b52f3eea",
   "metadata": {},
   "outputs": [],
   "source": []
  },
  {
   "cell_type": "code",
   "execution_count": 18,
   "id": "f44f569a",
   "metadata": {},
   "outputs": [],
   "source": [
    "#Is there any correlation between the customer's income level and education level?\n",
    "from pyspark.sql.functions import col,when\n",
    "\n",
    "df4 = credit_application.withColumn(\"NAME_EDUCATION_TYPE_CAT\", \n",
    "                                    when(col(\"NAME_EDUCATION_TYPE\")=='Lower secondary',0)\n",
    "                                    .when(col(\"NAME_EDUCATION_TYPE\")=='Secondary / secondary special',1)\n",
    "                                     .when(col(\"NAME_EDUCATION_TYPE\")=='Incomplete higher',2)\n",
    "                                   .when(col(\"NAME_EDUCATION_TYPE\")=='Academic degree',3)\n",
    "                                   .when(col(\"NAME_EDUCATION_TYPE\")=='Higher education',4))\n"
   ]
  },
  {
   "cell_type": "code",
   "execution_count": 14,
   "id": "b4890f64",
   "metadata": {},
   "outputs": [
    {
     "name": "stdout",
     "output_type": "stream",
     "text": [
      "                         AMT_INCOME_TOTAL  NAME_EDUCATION_TYPE_CAT\n",
      "AMT_INCOME_TOTAL                 1.000000                 0.219696\n",
      "NAME_EDUCATION_TYPE_CAT          0.219696                 1.000000\n"
     ]
    }
   ],
   "source": [
    "\n",
    "#the below output shows the corelation\n",
    "from pyspark.mllib.stat import Statistics\n",
    "import pandas as pd\n",
    "corr_data = df4.select('AMT_INCOME_TOTAL','NAME_EDUCATION_TYPE_CAT')\n",
    "col_names = corr_data.columns\n",
    "features = corr_data.rdd.map(lambda row :row[0:])\n",
    "corr_mat = Statistics.corr(features, method ='pearson')\n",
    "corr_df = pd.DataFrame(corr_mat)\n",
    "corr_df.index , corr_df.columns = col_names, col_names \n",
    "print(corr_df.to_string())"
   ]
  },
  {
   "cell_type": "code",
   "execution_count": 19,
   "id": "eb5aeefe",
   "metadata": {},
   "outputs": [
    {
     "name": "stdout",
     "output_type": "stream",
     "text": [
      "+-------+------------------+\n",
      "|summary|  AMT_INCOME_TOTAL|\n",
      "+-------+------------------+\n",
      "|  count|            438557|\n",
      "|   mean|187524.28600950394|\n",
      "| stddev|110086.85306622818|\n",
      "|    min|           26100.0|\n",
      "|    max|         6750000.0|\n",
      "+-------+------------------+\n",
      "\n"
     ]
    }
   ],
   "source": [
    "#What is the average and median salary of the applicant base?\n",
    "\n",
    "#MEAN IS AVERAGE SALARY WHICH IS 187524\n",
    "credit_application.select('AMT_INCOME_TOTAL').describe().show()"
   ]
  },
  {
   "cell_type": "code",
   "execution_count": 20,
   "id": "93462ded",
   "metadata": {},
   "outputs": [
    {
     "data": {
      "text/plain": [
       "[160780.5]"
      ]
     },
     "execution_count": 20,
     "metadata": {},
     "output_type": "execute_result"
    }
   ],
   "source": [
    "#MEDIAN IS CALCULATED BELOW USING approxQuantile\n",
    "\n",
    "\n",
    "credit_application.approxQuantile(\"AMT_INCOME_TOTAL\",[0.5],0)"
   ]
  },
  {
   "cell_type": "code",
   "execution_count": 22,
   "id": "e0142b34",
   "metadata": {},
   "outputs": [
    {
     "data": {
      "text/plain": [
       "(777715, 20)"
      ]
     },
     "execution_count": 22,
     "metadata": {},
     "output_type": "execute_result"
    }
   ],
   "source": [
    " #WE MERGE THE TWO DATA FRAMES ON ID COLUMN AND CHECK THE SHAPE\n",
    "new_df2 = credit_application.join(credit_record, [\"ID\"])\n",
    "new_df2.shape()"
   ]
  },
  {
   "cell_type": "code",
   "execution_count": 23,
   "id": "29470197",
   "metadata": {},
   "outputs": [],
   "source": [
    "# WE CREATE OUR TARGET COLUMN AS STATUS_CAT, THIS COLUMN WILL BE USED FOR TARGET IN THE WHOLE ASSIGNMENT\n",
    "# STATUS = X,C,0,1 are considered as good customers and non deliquent so we transform below, good are coded as 1 and bad are 0\n",
    "\n",
    "\n",
    "new_df2 = new_df2.withColumn(\"STATUS_CAT\", \n",
    "                                    when(col(\"STATUS\")=='X',0)\n",
    "                                    .when(col(\"STATUS\")=='C',0)\n",
    "                                     .when(col(\"STATUS\")=='0',0)\n",
    "                                   .when(col(\"STATUS\")=='1',0)\n",
    "                                   .otherwise(1))\n"
   ]
  },
  {
   "cell_type": "code",
   "execution_count": 24,
   "id": "89568211",
   "metadata": {},
   "outputs": [
    {
     "name": "stdout",
     "output_type": "stream",
     "text": [
      "+------------+----------+---------+\n",
      "|FLAG_OWN_CAR|STATUS_CAT|Frequency|\n",
      "+------------+----------+---------+\n",
      "|           N|         0|   471655|\n",
      "|           N|         1|     1700|\n",
      "|           Y|         0|   303232|\n",
      "|           Y|         1|     1128|\n",
      "+------------+----------+---------+\n",
      "\n"
     ]
    }
   ],
   "source": [
    "#Is the proportion of bad customers higher for people who own cars?\n",
    "#the good customers are majority owners of car\n",
    "import pyspark.sql.functions as F\n",
    "\n",
    "df6 = new_df2.groupBy('FLAG_OWN_CAR', 'STATUS_CAT').agg(F.count('*').alias('Frequency')).orderBy('FLAG_OWN_CAR', 'STATUS_CAT')\n",
    "df6.show()"
   ]
  },
  {
   "cell_type": "code",
   "execution_count": 26,
   "id": "0e36ca3c",
   "metadata": {},
   "outputs": [
    {
     "name": "stdout",
     "output_type": "stream",
     "text": [
      "+----------------------+----------+---------+\n",
      "|NAME_HOUSING_TYPE_CAT2|STATUS_CAT|Frequency|\n",
      "+----------------------+----------+---------+\n",
      "|                     0|         0|    10853|\n",
      "|                     0|         1|       45|\n",
      "|                     1|         0|   764034|\n",
      "|                     1|         1|     2783|\n",
      "+----------------------+----------+---------+\n",
      "\n"
     ]
    }
   ],
   "source": [
    "#Is the proportion of bad customers higher for those living on rent than the rest of the population?\n",
    "#we create a new columns for those living on rent and mark them with 0\n",
    "#df8 shows that people living on rent are good customers\n",
    "new_df2.select('NAME_HOUSING_TYPE').distinct().collect()\n",
    "from pyspark.sql.functions import col,when\n",
    "\n",
    "df7 = new_df2.withColumn(\"NAME_HOUSING_TYPE_CAT2\", \n",
    "                                    when(col(\"NAME_HOUSING_TYPE\")=='Rented apartment',0)\n",
    "                                    .otherwise(1))\n",
    "import pyspark.sql.functions as F\n",
    "\n",
    "df8 = df7.groupBy('NAME_HOUSING_TYPE_CAT2', 'STATUS_CAT').agg(F.count('*').alias('Frequency')).orderBy('NAME_HOUSING_TYPE_CAT2', 'STATUS_CAT')\n",
    "df8.show()"
   ]
  },
  {
   "cell_type": "code",
   "execution_count": 27,
   "id": "3c51e99d",
   "metadata": {},
   "outputs": [
    {
     "name": "stdout",
     "output_type": "stream",
     "text": [
      "+--------------------+----------+---------+\n",
      "|NAME_FAMILY_STATUS_2|STATUS_CAT|Frequency|\n",
      "+--------------------+----------+---------+\n",
      "|                   0|         0|    45084|\n",
      "|                   0|         1|      171|\n",
      "|                   1|         0|   544666|\n",
      "|                   1|         1|     1953|\n",
      "|                   2|         0|   185137|\n",
      "|                   2|         1|      704|\n",
      "+--------------------+----------+---------+\n",
      "\n"
     ]
    }
   ],
   "source": [
    "#Is the proportion of bad customers higher for those who are single than married customers?\n",
    "#we create a new column NAME_FAMILY_STATUS_2 where married are 1 and single are 0\n",
    "# We understand that married customers are more bad\n",
    "new_df2.select('NAME_FAMILY_STATUS').distinct().collect()\n",
    "from pyspark.sql.functions import col,when\n",
    "\n",
    "df9 = df7.withColumn(\"NAME_FAMILY_STATUS_2\", \n",
    "                                    when(col(\"NAME_FAMILY_STATUS\")=='Separated',0)\n",
    "                                    .when(col(\"NAME_FAMILY_STATUS\")=='Married',1)\n",
    "                                    .otherwise(2))\n",
    "import pyspark.sql.functions as F\n",
    "\n",
    "df10 = df9.groupBy('NAME_FAMILY_STATUS_2', 'STATUS_CAT').agg(F.count('*').alias('Frequency')).orderBy('NAME_FAMILY_STATUS_2', 'STATUS_CAT')\n",
    "df10.show()"
   ]
  },
  {
   "cell_type": "code",
   "execution_count": 30,
   "id": "accc4370",
   "metadata": {},
   "outputs": [],
   "source": [
    "#end of eda questions"
   ]
  },
  {
   "cell_type": "code",
   "execution_count": 34,
   "id": "96abbfa5",
   "metadata": {},
   "outputs": [
    {
     "name": "stdout",
     "output_type": "stream",
     "text": [
      "+---------------+\n",
      "|OCCUPATION_TYPE|\n",
      "+---------------+\n",
      "|         537667|\n",
      "+---------------+\n",
      "\n"
     ]
    },
    {
     "data": {
      "text/plain": [
       "(777715, 21)"
      ]
     },
     "execution_count": 34,
     "metadata": {},
     "output_type": "execute_result"
    }
   ],
   "source": [
    "# more eda for logistic regression\n",
    "\n",
    "#Count of non-null for selected columns \n",
    "\n",
    "\n",
    "from pyspark.sql.functions import col, when, count\n",
    "df_Columns=[\"OCCUPATION_TYPE\"]\n",
    "new_df2.select([count(when(col(c).isNotNull(), c)).alias(c) for c in df_Columns]\n",
    "   ).show()\n",
    "new_df2.shape()"
   ]
  },
  {
   "cell_type": "code",
   "execution_count": 36,
   "id": "1eb881b0",
   "metadata": {},
   "outputs": [
    {
     "data": {
      "text/plain": [
       "(777715, 20)"
      ]
     },
     "execution_count": 36,
     "metadata": {},
     "output_type": "execute_result"
    }
   ],
   "source": [
    "# From above we see that there are many null rows so we clear that column\n",
    "#So now we have one column less \n",
    "new_df2 = new_df2.drop(\"OCCUPATION_TYPE\") \n",
    "new_df2.shape()"
   ]
  },
  {
   "cell_type": "code",
   "execution_count": 37,
   "id": "11912fa2",
   "metadata": {},
   "outputs": [],
   "source": [
    "#Woe class we create\n",
    "#The WOE reflects group identity, \n",
    "#which means that it captures the general trend of distribution of good and bad customers.\n",
    "\n",
    "from pyspark.sql import DataFrame\n",
    "class WOE_IV(object):\n",
    "    \n",
    "    \"\"\"\n",
    "    This class contains methods that are used for calculating the WOE and IV values in a given dataset.\n",
    "    \n",
    "    Attributes\n",
    "    ----------\n",
    "    df : spark DataFrame\n",
    "        The spark dataframe\n",
    "    cols_to_woe : list\n",
    "        Columns that you want to convert in WOE and IV\n",
    "    label_column : str\n",
    "        target column of the data\n",
    "    good_label : str\n",
    "        Predicted variable in the form of 1 or 0\n",
    "    \"\"\"\n",
    "    \n",
    "    def __init__(self, df: DataFrame, cols_to_woe: [str], label_column: str, good_label: str):\n",
    "        self.df = df\n",
    "        self.cols_to_woe = cols_to_woe\n",
    "        self.label_column = label_column\n",
    "        self.good_label = good_label\n",
    "        self.fit_data = {} # This is a dictionary which will store all the WOE and IV computed in the latter part of the code\n",
    "\n",
    "    def fit(self):  \n",
    "        \"\"\"\n",
    "        This method takes the columns in 'cols_to_woe' and calculates the good and bad amounts, and then assigns the WOE values in the dictionary, 'fit_data'\n",
    "        \"\"\"\n",
    "        for col_to_woe in self.cols_to_woe: # Iterating over each column in the list, cols_to_woe\n",
    "            \n",
    "            total_good = self.compute_total_amount_of_good() # Computes the total amount of good labels in the entire dataset\n",
    "            total_bad = self.compute_total_amount_of_bad() # Computes the total amount of bad labels in the entire dataset\n",
    "            \n",
    "            woe_df = self.df.select(col_to_woe) # This dataframe stores the column, col_to_woe from the DataFrame\n",
    "            categories = woe_df.distinct().collect() # Creates a list of all the distinct categories in the column, col_to_woe\n",
    "            for category_row in categories: # Iterating over each category in the distinct categories of the column\n",
    "                category = category_row[col_to_woe]\n",
    "                \n",
    "                # For each category, we calculate the good_amount and bad_amount\n",
    "                good_amount = self.compute_good_amount(col_to_woe, category)\n",
    "                bad_amount = self.compute_bad_amount(col_to_woe, category)\n",
    "                \n",
    "                # If the good_amount or bad_amount is 0, we replace it with 0.5, because in the calculation of woe, it comes in the denominator resulting in a Nan value which will give an error\n",
    "                good_amount = good_amount if good_amount != 0 else 0.5\n",
    "                bad_amount = bad_amount if bad_amount != 0 else 0.5\n",
    "\n",
    "                # Calculating the fraction of good_amount and bad_amount specific to that category\n",
    "                good_dist = good_amount / total_good\n",
    "                bad_dist = bad_amount / total_bad\n",
    "\n",
    "                # Calling the build_fit_data method which calculates the WOE and IV for the category in the column and stores it in the dictionary, fit_data\n",
    "                self.build_fit_data(col_to_woe, category, good_dist, bad_dist)\n",
    "\n",
    "    def transform(self, df: DataFrame):\n",
    "        \"\"\"\n",
    "        This method creates a column called \"col_to_woe + '_woe'\" which replaces the given category value with the WOE value.\n",
    "        It finally returns a final dataframe containing the WOE values in place of the columns\n",
    "        \"\"\"\n",
    "        def _encode_woe(col_to_woe_):\n",
    "            return F.coalesce(\n",
    "                *[F.when(F.col(col_to_woe_) == category, F.lit(woe_iv['woe']))\n",
    "                  for category, woe_iv in self.fit_data[col_to_woe_].items()]\n",
    "            )\n",
    "\n",
    "        for col_to_woe, woe_info in self.fit_data.items():\n",
    "            # Adds another column to the df containing the final WOE values\n",
    "            df = df.withColumn(col_to_woe + '_woe', _encode_woe(col_to_woe))\n",
    "        return df\n",
    "\n",
    "    def compute_total_amount_of_good(self):\n",
    "     # Computes the total amount of good labels in the entire dataset\n",
    "        return self.df.select(self.label_column).filter(F.col(self.label_column) == self.good_label).count()\n",
    "\n",
    "    def compute_total_amount_of_bad(self):\n",
    "     # Computes the total amount of bad labels in the entire dataset\n",
    "        return self.df.select(self.label_column).filter(F.col(self.label_column) != self.good_label).count()\n",
    "\n",
    "    def compute_good_amount(self, col_to_woe: str, category: str):\n",
    "     # Computes the total amount of good labels for the specific class in the feature\n",
    "        return self.df.select(col_to_woe, self.label_column)\\\n",
    "                      .filter(\n",
    "                            (F.col(col_to_woe) == category) & (F.col(self.label_column) == self.good_label)\n",
    "                      ).count()\n",
    "\n",
    "    def compute_bad_amount(self, col_to_woe: str, category: str):\n",
    "        # Computes the total amount of bad labels for the specific class in the feature\n",
    "        return self.df.select(col_to_woe, self.label_column)\\\n",
    "                      .filter(\n",
    "                            (F.col(col_to_woe) == category) & (F.col(self.label_column) != self.good_label)\n",
    "                      ).count()\n",
    "\n",
    "    def build_fit_data(self, col_to_woe, category, good_dist, bad_dist):\n",
    "        \"\"\"\n",
    "        Calculates the WOE and value for the specific category and saves it in the woe_info dictionary which is saves in the fit_data dictionary\n",
    "        \n",
    "        \n",
    "        Attributes:\n",
    "        col_to_woe: str\n",
    "        name of the feature\n",
    "        \n",
    "        category: str\n",
    "        Class of that feature\n",
    "        \n",
    "        good_dist: float\n",
    "        Fraction of good labels specific to that category\n",
    "        \n",
    "        bad_dist: float\n",
    "        Fraction of bad labels specific to that category\n",
    "        \"\"\"\n",
    "        woe_info = {\n",
    "            category: {\n",
    "                'woe': math.log(good_dist / bad_dist), # Calculating the WOE value for the category in the column\n",
    "                'iv': (good_dist - bad_dist) * math.log(good_dist / bad_dist) # Calculating the IV value for the category in the column\n",
    "            }\n",
    "        }\n",
    "\n",
    "        # Adding the feature, col_to_woe to fit_data if not present already\n",
    "        if col_to_woe not in self.fit_data:\n",
    "            self.fit_data[col_to_woe] = woe_info\n",
    "        else:\n",
    "            self.fit_data[col_to_woe].update(woe_info)\n",
    "\n",
    "    def compute_iv(self):\n",
    "        \"\"\"\n",
    "        Returns the IV dictionary which contains the IV value for each feature\n",
    "        \"\"\"\n",
    "        iv_dict = {}\n",
    "\n",
    "        for woe_col, categories in self.fit_data.items():\n",
    "            iv_dict[woe_col] = 0\n",
    "            for category, woe_iv in categories.items():\n",
    "                iv_dict[woe_col] += woe_iv['iv'] # IV for the feature = IV value for the indiviual categories of the feature (column)\n",
    "        return iv_dict"
   ]
  },
  {
   "cell_type": "code",
   "execution_count": 38,
   "id": "e80fd644",
   "metadata": {},
   "outputs": [
    {
     "name": "stdout",
     "output_type": "stream",
     "text": [
      "DAYS_EMPLOYEDbucket\n",
      "DataFrame[ID: int, CODE_GENDER: string, FLAG_OWN_CAR: string, FLAG_OWN_REALTY: string, CNT_CHILDREN: int, AMT_INCOME_TOTAL: double, NAME_INCOME_TYPE: string, NAME_EDUCATION_TYPE: string, NAME_FAMILY_STATUS: string, NAME_HOUSING_TYPE: string, DAYS_BIRTH: int, DAYS_EMPLOYED: int, FLAG_MOBIL: int, FLAG_WORK_PHONE: int, FLAG_PHONE: int, FLAG_EMAIL: int, CNT_FAM_MEMBERS: double, MONTHS_BALANCE: int, STATUS: string, STATUS_CAT: int, DAYS_EMPLOYEDbucket: double]\n"
     ]
    }
   ],
   "source": [
    "#creating montonus bins for continuous variables\n",
    "import numpy as np\n",
    "from pyspark.ml.feature import QuantileDiscretizer\n",
    "import scipy.stats.stats as stats\n",
    "\n",
    "spike_cols = ['CNT_CHILDREN','AMT_INCOME_TOTAL','DAYS_BIRTH','DAYS_EMPLOYED','CNT_FAM_MEMBERS']\n",
    "max_bucket = 5 \n",
    "for x in spike_cols:\n",
    "    r= 0\n",
    "    n= max_bucket\n",
    "    while ((np.abs(r) < 1 )& (n > 1 )):\n",
    "        discretizer = QuantileDiscretizer(numBuckets =n , inputCol =x , outputCol =x +\"bucket\")\n",
    "        d1 = discretizer.fit(new_df2).transform(new_df2)\n",
    "        d2 = d1.groupBy( x + \"bucket\").agg(F.mean(x).alias(\"X1\"), F.mean(\"STATUS_CAT\").alias(\"Y1\")).orderBy(\"X1\")\n",
    "        a1 = d2.select(\"X1\").rdd.flatMap(lambda x:x).collect()\n",
    "        b1 = d2.select(\"Y1\").rdd.flatMap(lambda x:x).collect()\n",
    "        r,p =  stats.spearmanr(a1, b1)\n",
    "        if(r==1):\n",
    "            print(x+ \"bucket\")\n",
    "            new_df2 = discretizer.fit(new_df2).transform(new_df2)\n",
    "        n = n -1 \n",
    "\n",
    "print(new_df2)"
   ]
  },
  {
   "cell_type": "code",
   "execution_count": 39,
   "id": "f27a272d",
   "metadata": {},
   "outputs": [],
   "source": [
    "# calculating woe and IV for all categorical variable (including bin variables from continuous variables)\n",
    "\n",
    "import math\n",
    "cols_to_woe = ['CODE_GENDER','FLAG_OWN_CAR','FLAG_OWN_REALTY','NAME_INCOME_TYPE','NAME_EDUCATION_TYPE' \n",
    "               ,'NAME_FAMILY_STATUS', 'NAME_HOUSING_TYPE','FLAG_MOBIL','FLAG_WORK_PHONE' ,'FLAG_PHONE',\n",
    "              'FLAG_EMAIL', 'DAYS_EMPLOYEDbucket' ]\n",
    "\n",
    "\n",
    "woe = WOE_IV( new_df2,cols_to_woe,'STATUS_CAT',1  )\n",
    "\n",
    "#woe encoding\n",
    "woe.fit()\n",
    "\n",
    "encoded_df = woe.transform(new_df2)\n",
    "\n",
    "#information value\n",
    "\n",
    "ivs = woe.compute_iv()\n",
    "\n",
    "\n",
    "\n",
    "\n",
    "\n",
    "\n",
    "\n",
    "\n",
    "\n",
    "\n"
   ]
  },
  {
   "cell_type": "code",
   "execution_count": 40,
   "id": "91dfa9f0",
   "metadata": {},
   "outputs": [
    {
     "name": "stdout",
     "output_type": "stream",
     "text": [
      "{'CODE_GENDER': {'F': {'woe': -0.14982463630418086, 'iv': 0.013914914896359385}, 'M': {'woe': 0.2463211337897097, 'iv': 0.02287699605624153}}, 'FLAG_OWN_CAR': {'Y': {'woe': 0.019095428216215418, 'iv': 0.00014406171382780794}, 'N': {'woe': -0.012472070822197248, 'iv': 9.409309271743701e-05}}, 'FLAG_OWN_REALTY': {'Y': {'woe': -0.01475934305545162, 'iv': 0.00014262939795350567}, 'N': {'woe': 0.027993079164006385, 'iv': 0.0002705158361741757}}, 'NAME_INCOME_TYPE': {'Student': {'woe': -0.9000826466756933, 'iv': 0.000232310184930355}, 'Commercial associate': {'woe': 0.29776362987723526, 'iv': 0.02432209706522298}, 'State servant': {'woe': -0.6454698640706565, 'iv': 0.02587365249775274}, 'Working': {'woe': -0.19675109340732444, 'iv': 0.01809298877065602}, 'Pensioner': {'woe': 0.26852545546842027, 'iv': 0.013640045182080706}}, 'NAME_EDUCATION_TYPE': {'Academic degree': {'woe': -1.8098237868128069, 'iv': 0.0016349117368392127}, 'Incomplete higher': {'woe': 0.14954741275869787, 'iv': 0.0009401977049945515}, 'Secondary / secondary special': {'woe': -0.1173293764092403, 'iv': 0.00875965086766063}, 'Lower secondary': {'woe': 0.7597189246289082, 'iv': 0.009579104925754275}, 'Higher education': {'woe': 0.18821155129334635, 'iv': 0.010698525775787983}}, 'NAME_FAMILY_STATUS': {'Separated': {'woe': 0.03852832537730431, 'iv': 8.80516529035088e-05}, 'Married': {'woe': -0.017658646629725785, 'iv': 0.0002172590314293677}, 'Single / not married': {'woe': 0.2680934861940793, 'iv': 0.009987463375718885}, 'Widow': {'woe': 0.28158876390877513, 'iv': 0.0036654742034722084}, 'Civil marriage': {'woe': -0.7294389008580293, 'iv': 0.029362020629630944}}, 'NAME_HOUSING_TYPE': {'House / apartment': {'woe': -0.026493512298548252, 'iv': 0.0006209926416020334}, 'Municipal apartment': {'woe': 0.511032788076445, 'iv': 0.010773344330400968}, 'Co-op apartment': {'woe': 0.8187352786099941, 'iv': 0.004855183897615813}, 'Rented apartment': {'woe': 0.12761313556091858, 'iv': 0.0002432807112669213}, 'Office apartment': {'woe': 0.3827521141740356, 'iv': 0.0012912527002475285}, 'With parents': {'woe': -0.21383544420574463, 'iv': 0.0018929109092413012}}, 'FLAG_MOBIL': {1: {'woe': 0.0, 'iv': 0.0}}, 'FLAG_WORK_PHONE': {1: {'woe': 0.2024035826633507, 'iv': 0.010517706514243032}, 0: {'woe': -0.07002425806032435, 'iv': 0.00363874287927545}}, 'FLAG_PHONE': {1: {'woe': 0.16783789551883113, 'iv': 0.009224922280713706}, 0: {'woe': -0.08186634482783403, 'iv': 0.004499643338045458}}, 'FLAG_EMAIL': {1: {'woe': -0.17390468648888385, 'iv': 0.002546300805935417}, 0: {'woe': 0.015992093882746545, 'iv': 0.00023415517065340918}}, 'DAYS_EMPLOYEDbucket': {0.0: {'woe': -0.47580453698508485, 'iv': 0.060073643501742956}, 1.0: {'woe': 0.06112549332982526, 'iv': 0.0012880294346704882}, 2.0: {'woe': 0.2750576432335661, 'iv': 0.028931963789024618}}}\n",
      "{'CODE_GENDER': 0.03679191095260091, 'FLAG_OWN_CAR': 0.00023815480654524495, 'FLAG_OWN_REALTY': 0.0004131452341276814, 'NAME_INCOME_TYPE': 0.0821610937006428, 'NAME_EDUCATION_TYPE': 0.031612391011036654, 'NAME_FAMILY_STATUS': 0.04332026889315491, 'NAME_HOUSING_TYPE': 0.019676965190374568, 'FLAG_MOBIL': 0.0, 'FLAG_WORK_PHONE': 0.014156449393518481, 'FLAG_PHONE': 0.013724565618759163, 'FLAG_EMAIL': 0.002780455976588826, 'DAYS_EMPLOYEDbucket': 0.09029363672543807}\n"
     ]
    }
   ],
   "source": [
    "#print woe for each variable and category\n",
    "\n",
    "print(woe.fit_data)\n",
    "print(ivs)"
   ]
  },
  {
   "cell_type": "code",
   "execution_count": 41,
   "id": "a07a820f",
   "metadata": {},
   "outputs": [
    {
     "name": "stdout",
     "output_type": "stream",
     "text": [
      "(777715, 33)\n",
      "(777715, 33)\n"
     ]
    }
   ],
   "source": [
    "#writing contents to a file to get the check point\n",
    "#LOADING THE DATA FROM THE SAVED FILE\n",
    "encoded_df.write.format(\"com.databricks.spark.csv\").mode('overwrite').save('encodeddf.csv', header = 'true')\n",
    "encoded_df_saved = spark.read.csv(\"encodeddf.csv\" , header = True, inferSchema =True)\n",
    "\n",
    "print(encoded_df.shape())\n",
    "print(encoded_df_saved.shape())"
   ]
  },
  {
   "cell_type": "code",
   "execution_count": 42,
   "id": "db121b6d",
   "metadata": {},
   "outputs": [
    {
     "name": "stdout",
     "output_type": "stream",
     "text": [
      "Training Dataset count 544509\n",
      "Testing Dataset count 233206\n"
     ]
    }
   ],
   "source": [
    "#splitting the test and train data\n",
    "\n",
    "train , test = encoded_df_saved.randomSplit([0.7,0.3],seed =2018)\n",
    "print(\"Training Dataset count \" + str(train.count()))\n",
    "print(\"Testing Dataset count \" + str(test.count()))"
   ]
  },
  {
   "cell_type": "code",
   "execution_count": 43,
   "id": "354b3d1b",
   "metadata": {},
   "outputs": [],
   "source": [
    "#specify feature list to be used for logistic regression\n",
    "from pyspark.ml.feature import VectorAssembler\n",
    "feature_list = ['CODE_GENDER_woe','FLAG_OWN_CAR_woe','FLAG_OWN_REALTY_woe',\n",
    "               'FLAG_OWN_REALTY_woe','NAME_INCOME_TYPE_woe','NAME_EDUCATION_TYPE_woe',\n",
    "               'NAME_FAMILY_STATUS_woe','NAME_HOUSING_TYPE_woe' ,'FLAG_MOBIL_woe' ,'FLAG_WORK_PHONE_woe',\n",
    "               'FLAG_PHONE_woe' , 'FLAG_EMAIL_woe'  , 'DAYS_EMPLOYEDbucket_woe' ]\n",
    "\n",
    "#Creating feature vector with all inputing columns\n",
    "\n",
    "assembler = VectorAssembler(inputCols = feature_list , outputCol =\"features\")\n",
    "\n",
    "train = assembler.transform(train)\n",
    "\n",
    "test = assembler.transform(test)\n",
    "\n"
   ]
  },
  {
   "cell_type": "code",
   "execution_count": 44,
   "id": "ce832b25",
   "metadata": {},
   "outputs": [
    {
     "data": {
      "text/plain": [
       "VectorAssembler_1a554e55f6e1"
      ]
     },
     "execution_count": 44,
     "metadata": {},
     "output_type": "execute_result"
    }
   ],
   "source": [
    "assembler"
   ]
  },
  {
   "cell_type": "code",
   "execution_count": 45,
   "id": "740c7b63",
   "metadata": {},
   "outputs": [
    {
     "data": {
      "text/plain": [
       "pyspark.sql.dataframe.DataFrame"
      ]
     },
     "execution_count": 45,
     "metadata": {},
     "output_type": "execute_result"
    }
   ],
   "source": [
    "type(train) "
   ]
  },
  {
   "cell_type": "code",
   "execution_count": 46,
   "id": "48b0208b",
   "metadata": {},
   "outputs": [],
   "source": [
    "#Building Logistic Regression and predicting test and train on same dataset\n",
    "from pyspark.ml.classification import LogisticRegression\n",
    "lr = LogisticRegression(labelCol =\"STATUS_CAT\" , featuresCol = \"features\")\n",
    "model = lr.fit(train)"
   ]
  },
  {
   "cell_type": "code",
   "execution_count": 47,
   "id": "19ecea84",
   "metadata": {},
   "outputs": [
    {
     "name": "stdout",
     "output_type": "stream",
     "text": [
      "+----------+----------+------------------------------------------+\n",
      "|STATUS_CAT|prediction|probability                               |\n",
      "+----------+----------+------------------------------------------+\n",
      "|0         |0.0       |[0.9971805662104959,0.002819433789504111] |\n",
      "|0         |0.0       |[0.9971805662104959,0.002819433789504111] |\n",
      "|0         |0.0       |[0.9971805662104959,0.002819433789504111] |\n",
      "|0         |0.0       |[0.9971805662104959,0.002819433789504111] |\n",
      "|0         |0.0       |[0.9971805662104959,0.002819433789504111] |\n",
      "|0         |0.0       |[0.9971805662104959,0.002819433789504111] |\n",
      "|0         |0.0       |[0.9971805662104959,0.002819433789504111] |\n",
      "|0         |0.0       |[0.9971805662104959,0.002819433789504111] |\n",
      "|0         |0.0       |[0.9971805662104959,0.002819433789504111] |\n",
      "|0         |0.0       |[0.9971805662104959,0.002819433789504111] |\n",
      "|0         |0.0       |[0.9971805662104959,0.002819433789504111] |\n",
      "|0         |0.0       |[0.9948205703162398,0.005179429683760173] |\n",
      "|0         |0.0       |[0.9948205703162398,0.005179429683760173] |\n",
      "|0         |0.0       |[0.9948205703162398,0.005179429683760173] |\n",
      "|0         |0.0       |[0.9948205703162398,0.005179429683760173] |\n",
      "|0         |0.0       |[0.9948205703162398,0.005179429683760173] |\n",
      "|0         |0.0       |[0.9948205703162398,0.005179429683760173] |\n",
      "|0         |0.0       |[0.9948205703162398,0.005179429683760173] |\n",
      "|0         |0.0       |[0.9948205703162398,0.005179429683760173] |\n",
      "|0         |0.0       |[0.9974042767607606,0.0025957232392394003]|\n",
      "+----------+----------+------------------------------------------+\n",
      "only showing top 20 rows\n",
      "\n"
     ]
    }
   ],
   "source": [
    "# We check the probabibility in test \n",
    "\n",
    "predict_train = model.transform(train)\n",
    "predict_test = model.transform(test)\n",
    "predict_test.select(\"STATUS_CAT\",\"prediction\",\"probability\").show(truncate=False)\n",
    "\n",
    "\n"
   ]
  },
  {
   "cell_type": "code",
   "execution_count": 48,
   "id": "157a73e2",
   "metadata": {},
   "outputs": [
    {
     "name": "stdout",
     "output_type": "stream",
     "text": [
      "+----------+----------+------------------------------------------+------------+\n",
      "|STATUS_CAT|prediction|probability                               |prob_int    |\n",
      "+----------+----------+------------------------------------------+------------+\n",
      "|0         |0.0       |[0.9971805662104959,0.002819433789504111] |0.0028194338|\n",
      "|0         |0.0       |[0.9971805662104959,0.002819433789504111] |0.0028194338|\n",
      "|0         |0.0       |[0.9971805662104959,0.002819433789504111] |0.0028194338|\n",
      "|0         |0.0       |[0.9971805662104959,0.002819433789504111] |0.0028194338|\n",
      "|0         |0.0       |[0.9971805662104959,0.002819433789504111] |0.0028194338|\n",
      "|0         |0.0       |[0.9971805662104959,0.002819433789504111] |0.0028194338|\n",
      "|0         |0.0       |[0.9971805662104959,0.002819433789504111] |0.0028194338|\n",
      "|0         |0.0       |[0.9971805662104959,0.002819433789504111] |0.0028194338|\n",
      "|0         |0.0       |[0.9971805662104959,0.002819433789504111] |0.0028194338|\n",
      "|0         |0.0       |[0.9971805662104959,0.002819433789504111] |0.0028194338|\n",
      "|0         |0.0       |[0.9971805662104959,0.002819433789504111] |0.0028194338|\n",
      "|0         |0.0       |[0.9948205703162398,0.005179429683760173] |0.00517943  |\n",
      "|0         |0.0       |[0.9948205703162398,0.005179429683760173] |0.00517943  |\n",
      "|0         |0.0       |[0.9948205703162398,0.005179429683760173] |0.00517943  |\n",
      "|0         |0.0       |[0.9948205703162398,0.005179429683760173] |0.00517943  |\n",
      "|0         |0.0       |[0.9948205703162398,0.005179429683760173] |0.00517943  |\n",
      "|0         |0.0       |[0.9948205703162398,0.005179429683760173] |0.00517943  |\n",
      "|0         |0.0       |[0.9948205703162398,0.005179429683760173] |0.00517943  |\n",
      "|0         |0.0       |[0.9948205703162398,0.005179429683760173] |0.00517943  |\n",
      "|0         |0.0       |[0.9974042767607606,0.0025957232392394003]|0.0025957231|\n",
      "+----------+----------+------------------------------------------+------------+\n",
      "only showing top 20 rows\n",
      "\n"
     ]
    }
   ],
   "source": [
    "#creating a target probability column  for STATUS_CAT probability\n",
    "from pyspark.sql.functions import udf\n",
    "from pyspark.sql.types import FloatType\n",
    "secondelement = udf(lambda v:float(v[1]), FloatType())\n",
    "predict_train = predict_train.withColumn('prob_int', secondelement('probability'))\n",
    "predict_test = predict_test.withColumn('prob_int', secondelement('probability'))\n",
    "predict_test.select(\"STATUS_CAT\",\"prediction\",\"probability\",'prob_int').show(truncate=False)\n",
    "\n"
   ]
  },
  {
   "cell_type": "code",
   "execution_count": 49,
   "id": "d6287900",
   "metadata": {},
   "outputs": [
    {
     "data": {
      "image/png": "[encoded data removed]",
      "text/plain": [
       "<Figure size 432x288 with 1 Axes>"
      ]
     },
     "metadata": {
      "needs_background": "light"
     },
     "output_type": "display_data"
    },
    {
     "name": "stdout",
     "output_type": "stream",
     "text": [
      "Training Set areaunderROc:0.651064343077641\n"
     ]
    }
   ],
   "source": [
    "#AUC ROC for training data\n",
    "import matplotlib.pyplot as plt\n",
    "import seaborn as sns\n",
    "%matplotlib inline\n",
    "from sklearn.metrics import roc_curve\n",
    "\n",
    "training_summary = model.summary\n",
    "roc = training_summary.roc.toPandas()\n",
    "plt.plot(roc['FPR'],roc['TPR'])\n",
    "plt.ylabel('False Positive')\n",
    "plt.xlabel('True Positive')\n",
    "plt.title('ROC Curve')\n",
    "plt.show()\n",
    "print('Training Set areaunderROc:' + str(training_summary.areaUnderROC))\n",
    "\n",
    "\n",
    "#AUC ROC for test data\n",
    "\n",
    "preds = predict_test.select('STATUS_CAT','prob_int' ).rdd.map(lambda row: (float(row['prob_int']),\n",
    "                                                                       float(row['STATUS_CAT'] ))).collect()\n",
    "\n",
    "lr_probs , y_test = zip(*preds)\n",
    "fpr, tpr, thresholds = roc_curve(y_test, lr_probs , pos_label =1 )\n",
    "\n",
    "ns_probs = [0 for _ in range (len(y_test))]\n",
    "\n",
    "\n",
    "\n",
    "\n",
    "\n",
    "\n",
    "\n",
    "\n",
    "\n",
    "\n",
    "\n",
    "\n",
    "\n",
    "\n",
    "\n"
   ]
  },
  {
   "cell_type": "code",
   "execution_count": 50,
   "id": "0d275e0c",
   "metadata": {},
   "outputs": [],
   "source": [
    "#calculate scores\n",
    "from sklearn.metrics import roc_auc_score\n",
    "ns_auc = roc_auc_score(y_test, ns_probs)\n",
    "lr_auc = roc_auc_score(y_test, lr_probs)"
   ]
  },
  {
   "cell_type": "code",
   "execution_count": 51,
   "id": "04c9f8a8",
   "metadata": {},
   "outputs": [
    {
     "name": "stdout",
     "output_type": "stream",
     "text": [
      "TestingSet areaunderROc=0.679 \n"
     ]
    }
   ],
   "source": [
    "# summarize scores\n",
    "\n",
    "print('TestingSet areaunderROc=%.3f '%(lr_auc))"
   ]
  },
  {
   "cell_type": "code",
   "execution_count": 52,
   "id": "091b2900",
   "metadata": {},
   "outputs": [
    {
     "data": {
      "image/png": "[encoded data removed]",
      "text/plain": [
       "<Figure size 432x288 with 1 Axes>"
      ]
     },
     "metadata": {
      "needs_background": "light"
     },
     "output_type": "display_data"
    }
   ],
   "source": [
    "#calculate roc curves \n",
    "\n",
    "ns_fpr , ns_tpr , _ = roc_curve(y_test , ns_probs)\n",
    "lr_fpr , lr_tpr , _ = roc_curve(y_test , lr_probs)\n",
    "\n",
    "#plot the curve for the model\n",
    "plt.plot(ns_fpr , ns_tpr, linestyle ='--' , label = 'No Skill')\n",
    "plt.plot(lr_fpr , lr_tpr, linestyle ='--' , label = 'Logistic')\n",
    "\n",
    "#axis labels\n",
    "\n",
    "plt.xlabel('False positivity rate')\n",
    "plt.ylabel('True positivity rate')\n",
    "\n",
    "#show legend\n",
    "\n",
    "plt.legend()\n",
    "#show plot\n",
    "\n",
    "plt.show()"
   ]
  },
  {
   "cell_type": "code",
   "execution_count": 53,
   "id": "74a74bc4",
   "metadata": {},
   "outputs": [],
   "source": [
    "#calculating KS\n",
    "\n",
    "#CREATING DECILES USING THE PREDICTED PROBABILITY COLUMN\n",
    "\n",
    "discretizer = QuantileDiscretizer(numBuckets =10 , inputCol ='prob_int', outputCol = 'PROB_BUCKET')\n",
    "predict_train = discretizer.fit(predict_train).transform(predict_train)\n",
    "predict_test = discretizer.fit(predict_test).transform(predict_test)\n"
   ]
  },
  {
   "cell_type": "code",
   "execution_count": 54,
   "id": "2a4b5a5f",
   "metadata": {},
   "outputs": [],
   "source": [
    "# Creating good and bad for each decile\n",
    "ks_train =predict_train.groupBy('PROB_BUCKET').agg(F.count(\"ID\").alias(\"Total\"),\n",
    "                                                   F.max(\"prob_int\").alias(\"max_prob\"),\n",
    "                                                  F.min(\"prob_int\").alias(\"min_prob\"),\n",
    "                                                  F.sum(\"STATUS_CAT\").alias(\"bads\"),\n",
    "                                                  F.count(F.when (col(\"STATUS_CAT\")==0,0)).alias(\"goods\"))\n",
    "\n",
    "ks_test =predict_test.groupBy('PROB_BUCKET').agg(F.count(\"ID\").alias(\"Total\"),\n",
    "                                                   F.max(\"prob_int\").alias(\"max_prob\"),\n",
    "                                                  F.min(\"prob_int\").alias(\"min_prob\"),\n",
    "                                                  F.sum(\"STATUS_CAT\").alias(\"bads\"),\n",
    "                                                  F.count(F.when (col(\"STATUS_CAT\")==0,0)).alias(\"goods\"))\n",
    "\n",
    "\n",
    "from pyspark.sql.window import Window\n",
    "ks_train = ks_train.withColumn('%cumuBad', F.sum('bads').over(Window.orderBy(F.col('PROB_BUCKET').desc()).rowsBetween(Window.unboundedPreceding, \n",
    "               1))/F.sum('bads').over(Window.partitionBy()))                                                                                                 \n",
    "                                        \n",
    "\n",
    "ks_train = ks_train.withColumn('%cumuGood', F.sum('goods').over(Window.orderBy(F.col('PROB_BUCKET').desc()).rowsBetween(Window.unboundedPreceding, \n",
    "              1))/F.sum('goods').over(Window.partitionBy()))  \n",
    "\n",
    "ks_train = ks_train.withColumn('%diff', F.col('%cumuBad') - F.col('%cumuGood'))\n",
    "\n",
    "ks_train = ks_train.withColumn('max_diff', F.when(F.col('%diff') == F.max('%diff').over(Window.partitionBy()), '<---').otherwise(' '))\n",
    "         \n",
    "ks_test = ks_test.withColumn('%cumuBad', F.sum('bads').over(Window.orderBy(F.col('PROB_BUCKET').desc()).rowsBetween(Window.unboundedPreceding, \n",
    "              1))/F.sum('bads').over(Window.partitionBy()))                                                                                                 \n",
    "                                        \n",
    "ks_test = ks_test.withColumn('%cumuGood', F.sum('goods').over(Window.orderBy(F.col('PROB_BUCKET').desc()).rowsBetween(Window.unboundedPreceding, \n",
    "               1))/F.sum('goods').over(Window.partitionBy()))  \n",
    "\n",
    "ks_test = ks_test.withColumn('%diff', F.col('%cumuBad') - F.col('%cumuGood'))\n",
    "\n",
    "ks_test = ks_test.withColumn('max_diff', F.when(F.col('%diff') == F.max('%diff').over(Window.partitionBy()), '<---').otherwise(' '))\n",
    "           \n",
    "    "
   ]
  },
  {
   "cell_type": "code",
   "execution_count": 55,
   "id": "66c90696",
   "metadata": {},
   "outputs": [
    {
     "name": "stdout",
     "output_type": "stream",
     "text": [
      "+-----------+-----+------------+------------+----+-----+------------------+-------------------+-------------------+--------+\n",
      "|PROB_BUCKET|Total|    max_prob|    min_prob|bads|goods|          %cumuBad|          %cumuGood|              %diff|max_diff|\n",
      "+-----------+-----+------------+------------+----+-----+------------------+-------------------+-------------------+--------+\n",
      "|        9.0|23602|  0.02814461|0.0060409773| 257|23345|0.4880952380952381|0.20328705576547343| 0.2848081823297647|    <---|\n",
      "|        8.0|24045| 0.006040113|0.0049924334| 153|23892|0.5535714285714286| 0.3003924842705043| 0.2531789443009243|        |\n",
      "|        7.0|22619|0.0049854508| 0.004281541|  55|22564|0.6571428571428571|0.41183305647125656|0.24530980067160058|        |\n",
      "|        6.0|25982|  0.00428064|0.0037586049|  87|25895|0.7583333333333333|0.49993544666603545|0.25839788666729785|        |\n",
      "|        5.0|20557|0.0037562957|0.0033549112|  85|20472|0.8154761904761905| 0.5996660440856235|0.21581014639056695|        |\n",
      "|        4.0|23222|0.0033462343| 0.002873403|  48|23174|0.8630952380952381| 0.6998183899537798|0.16327684814145837|        |\n",
      "|        3.0|23312|0.0028733192| 0.002350621|  40|23272|0.9095238095238095| 0.8001342709346462|0.10938953858916334|        |\n",
      "|        2.0|23349|0.0023489024| 0.002033047|  39|23310|0.9464285714285714| 0.9009020252532642|0.04552654617530716|        |\n",
      "|        1.0|23446| 0.002032395|0.0014847483|  31|23415|               1.0|                1.0|                0.0|        |\n",
      "|        0.0|23072|0.0014811478|1.9325087E-4|  45|23027|               1.0|                1.0|                0.0|        |\n",
      "+-----------+-----+------------+------------+----+-----+------------------+-------------------+-------------------+--------+\n",
      "\n",
      "+-----------+-----+------------+------------+----+-----+-------------------+-------------------+-------------------+--------+\n",
      "|PROB_BUCKET|Total|    max_prob|    min_prob|bads|goods|           %cumuBad|          %cumuGood|              %diff|max_diff|\n",
      "+-----------+-----+------------+------------+----+-----+-------------------+-------------------+-------------------+--------+\n",
      "|        9.0|54920|  0.02814461|0.0060681333| 517|54403|0.44818913480885314| 0.2039460223659545|0.24424311244289865|    <---|\n",
      "|        8.0|56616|0.0060596555|0.0049924334| 374|56242| 0.5120724346076458| 0.2998759495024156|0.21219648510523026|        |\n",
      "|        7.0|52171|0.0049854508| 0.004290835| 127|52044| 0.6161971830985915|0.41242274492600284|0.20377443817258867|        |\n",
      "|        6.0|61266|0.0042846818|0.0037586049| 207|61059| 0.7122736418511066| 0.5000322568158652|0.21224138503524148|        |\n",
      "|        5.0|47721|0.0037562957|0.0033549112| 191|47530|  0.783702213279678| 0.5996634231670295|0.18403879011264856|        |\n",
      "|        4.0|54194|0.0033462343| 0.002866714| 142|54052| 0.8445674044265593| 0.7001480127036557|0.14441939172290363|        |\n",
      "|        3.0|54636| 0.002861776| 0.002347584| 121|54515| 0.8988933601609658| 0.7999837794297363|0.09890958073122946|        |\n",
      "|        2.0|54271|  0.00234639|0.0020314257| 108|54163| 0.9476861167002012| 0.9006490071352077|0.04703710956499352|        |\n",
      "|        1.0|54710| 0.002025301|0.0014847483|  97|54613|                1.0|                1.0|                0.0|        |\n",
      "|        0.0|54004|0.0014811478|1.9325087E-4| 104|53900|                1.0|                1.0|                0.0|        |\n",
      "+-----------+-----+------------+------------+----+-----+-------------------+-------------------+-------------------+--------+\n",
      "\n"
     ]
    }
   ],
   "source": [
    "ks_test.sort(col('PROB_BUCKET').desc()).show()\n",
    "ks_train.sort(col('PROB_BUCKET').desc()).show()"
   ]
  },
  {
   "cell_type": "code",
   "execution_count": 56,
   "id": "d0784738",
   "metadata": {},
   "outputs": [],
   "source": [
    "min_prob_max_ks = ks_test.where(col(\"max_diff\" )== '<---').select(col(\"min_prob\")).collect()[0]\n",
    "predict_test = predict_test.withColumn('pred_class', F.when(F.col('prob_int')> round(min_prob_max_ks[0],4),1).otherwise(0))"
   ]
  },
  {
   "cell_type": "code",
   "execution_count": 57,
   "id": "e932a8a5",
   "metadata": {},
   "outputs": [
    {
     "name": "stdout",
     "output_type": "stream",
     "text": [
      "+----------+----------+------+\n",
      "|pred_class|STATUS_CAT| count|\n",
      "+----------+----------+------+\n",
      "|         1|         0| 24000|\n",
      "|         1|         1|   258|\n",
      "|         0|         0|208366|\n",
      "|         0|         1|   582|\n",
      "+----------+----------+------+\n",
      "\n"
     ]
    }
   ],
   "source": [
    "predict_test.groupBy('pred_class','STATUS_CAT').count().show()"
   ]
  },
  {
   "cell_type": "code",
   "execution_count": 58,
   "id": "cc13f5e6",
   "metadata": {},
   "outputs": [
    {
     "name": "stdout",
     "output_type": "stream",
     "text": [
      "[[208366.  24000.]\n",
      " [   582.    258.]]\n",
      "SummaryStats\n",
      "Precision = 0.010635666584219638\n",
      "Recall = 0.30714285714285716\n",
      "f1Score = 0.020559407124073628\n",
      "Area under PR = 0.008198991615681186\n",
      "Area under ROC = 0.6019287613998113\n"
     ]
    }
   ],
   "source": [
    "#GENERATE EVALUATION METRICS\n",
    "from pyspark.sql.types import DoubleType\n",
    "\n",
    "results = predict_test.select(['pred_class','STATUS_CAT'])\n",
    "results = results.withColumn(\"STATUS_CAT\" , results[\"STATUS_CAT\"].cast(DoubleType()))\n",
    "results = results.withColumn(\"pred_class\", results[\"pred_class\"].cast(DoubleType()))\n",
    "from pyspark.mllib.evaluation import MulticlassMetrics,BinaryClassificationMetrics\n",
    "predictionAndLabels = results.rdd\n",
    "metrics = MulticlassMetrics(predictionAndLabels)\n",
    "metrics1 = BinaryClassificationMetrics(predictionAndLabels)\n",
    "cm = metrics.confusionMatrix().toArray()\n",
    "print(cm)\n",
    "#Overall Statitistics\n",
    "\n",
    "precision = metrics.precision(1)\n",
    "recall = metrics.recall(1)\n",
    "f1Score =  2 * (precision * recall) / (precision + recall)\n",
    "\n",
    "print(\"SummaryStats\")\n",
    "print(\"Precision = %s\" % precision)\n",
    "print(\"Recall = %s\" % recall)\n",
    "print(\"f1Score = %s\" % f1Score)\n",
    "\n",
    "#Area under precision recall curve\n",
    "print(\"Area under PR = %s\" % metrics1.areaUnderPR)\n",
    "\n",
    "#Area under ROC curve\n",
    "print(\"Area under ROC = %s\" % metrics1.areaUnderROC)"
   ]
  },
  {
   "cell_type": "code",
   "execution_count": null,
   "id": "90373e2b",
   "metadata": {},
   "outputs": [],
   "source": []
  },
  {
   "cell_type": "code",
   "execution_count": null,
   "id": "e2c7d04e",
   "metadata": {},
   "outputs": [],
   "source": []
  },
  {
   "cell_type": "code",
   "execution_count": null,
   "id": "a33fa0e4",
   "metadata": {},
   "outputs": [],
   "source": []
  },
  {
   "cell_type": "code",
   "execution_count": null,
   "id": "baddfac9",
   "metadata": {},
   "outputs": [],
   "source": [
    "\n",
    "\n"
   ]
  },
  {
   "cell_type": "code",
   "execution_count": null,
   "id": "bdf9ce0f",
   "metadata": {},
   "outputs": [],
   "source": []
  },
  {
   "cell_type": "code",
   "execution_count": null,
   "id": "c14b3854",
   "metadata": {},
   "outputs": [],
   "source": []
  },
  {
   "cell_type": "code",
   "execution_count": null,
   "id": "723b6252",
   "metadata": {},
   "outputs": [],
   "source": []
  }
 ],
 "metadata": {
  "kernelspec": {
   "display_name": "Python 3",
   "language": "python",
   "name": "python3"
  },
  "language_info": {
   "codemirror_mode": {
    "name": "ipython",
    "version": 3
   },
   "file_extension": ".py",
   "mimetype": "text/x-python",
   "name": "python",
   "nbconvert_exporter": "python",
   "pygments_lexer": "ipython3",
   "version": "3.8.8"
  }
 },
 "nbformat": 4,
 "nbformat_minor": 5
}
